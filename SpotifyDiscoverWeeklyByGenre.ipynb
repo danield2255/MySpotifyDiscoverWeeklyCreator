{
 "cells": [
  {
   "cell_type": "code",
   "execution_count": null,
   "metadata": {},
   "outputs": [],
   "source": [
    "import pandas as pd\n",
    "import numpy as np\n",
    "import os\n",
    "import time\n",
    "import spotipy\n",
    "from spotipy.oauth2 import SpotifyClientCredentials\n",
    "import spotipy.util as util\n",
    "import json\n",
    "import requests"
   ]
  },
  {
   "cell_type": "code",
   "execution_count": null,
   "metadata": {},
   "outputs": [],
   "source": [
    "#Read in data\n",
    "myListeningDf = pd.read_csv('myListeningData.csv')\n",
    "\n",
    "#Make some small changes for accuracy\n",
    "myListeningDf[\"genre1\"] = myListeningDf[\"genre1\"].apply(lambda col: str(col).replace(\"-\",\" \").lower())\n",
    "myListeningDf[\"genre2\"] = myListeningDf[\"genre2\"].apply(lambda col: str(col).replace(\"-\",\" \").lower())\n",
    "myListeningDf[\"genre3\"] = myListeningDf[\"genre3\"].apply(lambda col: str(col).replace(\"-\",\" \").lower())\n",
    "myListeningDf[\"genre1\"] = myListeningDf[\"genre1\"].apply(lambda col: \"r n b\" if (col.startswith(\"r\") and col.endswith(\"b\")) else col)\n",
    "myListeningDf[\"genre2\"] = myListeningDf[\"genre2\"].apply(lambda col: \"r n b\" if (col.startswith(\"r\") and col.endswith(\"b\")) else col)\n",
    "myListeningDf[\"genre3\"] = myListeningDf[\"genre3\"].apply(lambda col: \"r n b\" if (col.startswith(\"r\") and col.endswith(\"b\")) else col)\n",
    "myListeningDf[\"genre1\"] = myListeningDf[\"genre1\"].apply(lambda col: col.replace(\"alternative rock\", \"alt rock\"))\n",
    "myListeningDf[\"genre2\"] = myListeningDf[\"genre2\"].apply(lambda col: col.replace(\"alternative rock\", \"alt rock\"))\n",
    "myListeningDf[\"genre3\"] = myListeningDf[\"genre3\"].apply(lambda col: col.replace(\"alternative rock\", \"alt rock\"))\n",
    "myListeningDf.head()"
   ]
  },
  {
   "cell_type": "code",
   "execution_count": null,
   "metadata": {},
   "outputs": [],
   "source": [
    "#link to spotify API and get Oauth Access\n",
    "clientId = os.environ.get('spotifyClientId')\n",
    "clientSecret = os.environ.get('spotifyClientSecret')\n",
    "clientCredentialsManager = SpotifyClientCredentials(client_id=clientId, client_secret=clientSecret)\n",
    "sp = spotipy.Spotify(client_credentials_manager=clientCredentialsManager) #spotify object to access API\n",
    "\n",
    "spotifyUsername =os.environ.get(\"spotifyUsername\")\n",
    "scope = 'playlist-modify-private playlist-modify-public'\n",
    "SPOTIPY_REDIRECT_URI=os.environ.get('redirect_uri')\n",
    "#Note: The order of parameters matters, and the docs were \n",
    "token = util.prompt_for_user_token(spotifyUsername,scope, clientId, clientSecret, redirect_uri=SPOTIPY_REDIRECT_URI)\n",
    "if token:\n",
    "    sp = spotipy.Spotify(auth=token)\n",
    "    print(\"Success\")\n",
    "else:\n",
    "    print(\"Can't get token for\", username)\n",
    "    \n",
    "user_id = sp.current_user()[\"id\"]"
   ]
  },
  {
   "cell_type": "markdown",
   "metadata": {},
   "source": [
    "## Get All Genre Seeds"
   ]
  },
  {
   "cell_type": "code",
   "execution_count": null,
   "metadata": {},
   "outputs": [],
   "source": [
    "#Get a list of all the possible genre seeds from which to make 'discover weekly' playlists off of\n",
    "requestUrl = 'https://api.spotify.com/v1/recommendations/available-genre-seeds'\n",
    "response = requests.get(requestUrl, headers={\"Content-Type\":\"application/json\", \n",
    "                        \"Authorization\":\"Bearer \"+ token}).json()['genres']\n",
    "genreSeeds = [x.replace(\"-\", \" \") for x in response]\n",
    "print(genreSeeds)"
   ]
  },
  {
   "cell_type": "markdown",
   "metadata": {},
   "source": [
    "## Get Most Listened Genres From LastFM"
   ]
  },
  {
   "cell_type": "code",
   "execution_count": null,
   "metadata": {},
   "outputs": [],
   "source": [
    "def mostListenedRecentGenre(df, genreSeeds):\n",
    "    genreCounter = {}\n",
    "    for index, row in df.iterrows():\n",
    "        if row[\"genre1\"] not in genreCounter:\n",
    "            genreCounter[row[\"genre1\"]] = 3\n",
    "        else:\n",
    "            genreCounter[row[\"genre1\"]] += 3\n",
    "        if row[\"genre2\"] not in genreCounter:\n",
    "            genreCounter[row[\"genre2\"]] = 2\n",
    "        else:\n",
    "            genreCounter[row[\"genre2\"]] += 2\n",
    "        if row[\"genre3\"] not in genreCounter:\n",
    "            genreCounter[row[\"genre3\"]] = 1\n",
    "        else:\n",
    "            genreCounter[row[\"genre3\"]] += 1\n",
    "    return sorted(genreCounter, key=genreCounter.get, reverse=True)\n",
    "    "
   ]
  },
  {
   "cell_type": "code",
   "execution_count": null,
   "metadata": {},
   "outputs": [],
   "source": [
    "#Get your 3 most listened to genres based on the data from \"myListingData.csv\"\n",
    "genres = mostListenedRecentGenre(myListeningDf, genreSeeds)\n",
    "genres.remove(\"nan\")\n",
    "genrePlaylists = 3\n",
    "recommendedGenres = []\n",
    "for g in genres:\n",
    "    if g in genreSeeds:\n",
    "        recommendedGenres.append(g)\n",
    "    if len(recommendedGenres) == genrePlaylists:\n",
    "        break\n",
    "recommendedGenres"
   ]
  },
  {
   "cell_type": "markdown",
   "metadata": {},
   "source": [
    "## Get Seed Metrics"
   ]
  },
  {
   "cell_type": "code",
   "execution_count": null,
   "metadata": {},
   "outputs": [],
   "source": [
    "#Prepare the format of your nested dictionary for seed metrics\n",
    "myListeningDf.drop([\"Unnamed: 0\", \"id\", \"uri\", \"track_href\", \"analysis_url\", \"type\"], axis = 1)\n",
    "genreCols = [\"genre1\", \"genre2\", \"genre3\"]\n",
    "seedMetrics = {}\n",
    "for g in recommendedGenres: \n",
    "    seedMetrics[g] = {} #take the appropriate metrics that we think caputure the recent listening in each genre\n",
    "    genreSongs = myListeningDf.loc[(myListeningDf[genreCols] == g).any(axis = 1), :]\n",
    "    seedMetrics[g][\"danceability\"] = genreSongs[\"danceability\"].mean()\n",
    "    seedMetrics[g][\"energy\"] = genreSongs[\"energy\"].mean()\n",
    "    seedMetrics[g][\"key\"] = genreSongs[\"key\"].mode()\n",
    "    seedMetrics[g][\"loudness\"] = genreSongs[\"loudness\"].mean()\n",
    "    seedMetrics[g][\"speechiness\"] = genreSongs[\"speechiness\"].mean()\n",
    "    seedMetrics[g][\"mode\"] = genreSongs[\"mode\"].mode()\n",
    "    seedMetrics[g][\"acousticness\"] = genreSongs[\"acousticness\"].mean()\n",
    "    seedMetrics[g][\"instrumentalness\"] = genreSongs[\"instrumentalness\"].mean()\n",
    "    seedMetrics[g][\"liveness\"] = genreSongs[\"liveness\"].mean()\n",
    "    seedMetrics[g][\"valence\"] = genreSongs[\"valence\"].mean()\n",
    "    seedMetrics[g][\"tempo\"] = genreSongs[\"tempo\"].median()\n",
    "    seedMetrics[g][\"duration_ms\"] = genreSongs[\"duration_ms\"].median()\n",
    "    seedMetrics[g][\"time_signature\"] = genreSongs[\"time_signature\"].mode()\n",
    "    seedMetrics[g][\"popularity\"] = genreSongs[\"popularity\"].mean()\n",
    "    seedMetrics[g][\"release_date\"] = genreSongs[\"release_date\"].astype('datetime64[ns]').quantile(0.5)"
   ]
  },
  {
   "cell_type": "markdown",
   "metadata": {},
   "source": [
    "## Get Recommendations"
   ]
  },
  {
   "cell_type": "code",
   "execution_count": null,
   "metadata": {},
   "outputs": [],
   "source": [
    "#Function for getting recommended tracks for each genre\n",
    "def getRecommended(genre, acousticness, danceability, duration_ms, energy, instrumentalness, key, liveness, loudness, mode, popularity, speechiness, tempo, time_signature, valence, limit=50, market=\"US\"):\n",
    "    query = f'https://api.spotify.com/v1/recommendations?limit={limit}&market={market}&seed_genres={genre}&target_acousticness={acousticness}&target_danceability={danceability}&target_duration_ms={duration_ms}&target_energy={energy}&target_instrumentalness={instrumentalness}&target_key={key}&target_liveness={liveness}&target_loudness={loudness}&target_mode={mode}&target_popularity={popularity}&target_speechiness={speechiness}&target_tempo={tempo}&target_time_signature={time_signature}&target_valence={valence}'\n",
    "    print(query)\n",
    "    response =requests.get(query, \n",
    "                           headers={\"Content-Type\":\"application/json\", \n",
    "                                    \"Authorization\":\"Bearer \"+token}).json()\n",
    "    return response\n",
    "    "
   ]
  },
  {
   "cell_type": "markdown",
   "metadata": {},
   "source": [
    "## Add Playlists to Spotify"
   ]
  },
  {
   "cell_type": "code",
   "execution_count": null,
   "metadata": {},
   "outputs": [],
   "source": [
    "#For each of the genres you want a discover weekely playlist for, creates the playlist in your spotify acct\n",
    "#If it doesn't work, immediately, wait for your token to expire and try again\n",
    "for genre in seedMetrics:\n",
    "    playlistData = getRecommended(genre, seedMetrics[genre][\"acousticness\"], seedMetrics[genre][\"danceability\"], int(seedMetrics[genre][\"duration_ms\"]), seedMetrics[genre][\"energy\"], seedMetrics[genre][\"instrumentalness\"], int(seedMetrics[genre][\"key\"]), seedMetrics[genre][\"liveness\"], seedMetrics[genre][\"loudness\"], int(seedMetrics[genre][\"mode\"]), int(seedMetrics[genre][\"popularity\"]), seedMetrics[genre][\"speechiness\"], seedMetrics[genre][\"tempo\"], int(seedMetrics[genre][\"time_signature\"]), seedMetrics[genre][\"valence\"])\n",
    "    uris = []\n",
    "    for x,y in enumerate(playlistData['tracks']):\n",
    "            uris.append(y['uri'])\n",
    "    playlist = sp.user_playlist_create(user = spotifyUsername, name = \"Programmed playlist for Discover Weekly: \" + genre,public = False, description=\"A genre specific discover weekly for \" + genre)\n",
    "    sp.user_playlist_add_tracks(user_id, playlist[\"id\"], tracks = uris)\n",
    "    "
   ]
  },
  {
   "cell_type": "code",
   "execution_count": null,
   "metadata": {},
   "outputs": [],
   "source": []
  },
  {
   "cell_type": "code",
   "execution_count": null,
   "metadata": {},
   "outputs": [],
   "source": []
  }
 ],
 "metadata": {
  "kernelspec": {
   "display_name": "Python 3",
   "language": "python",
   "name": "python3"
  },
  "language_info": {
   "codemirror_mode": {
    "name": "ipython",
    "version": 3
   },
   "file_extension": ".py",
   "mimetype": "text/x-python",
   "name": "python",
   "nbconvert_exporter": "python",
   "pygments_lexer": "ipython3",
   "version": "3.7.4"
  }
 },
 "nbformat": 4,
 "nbformat_minor": 4
}
