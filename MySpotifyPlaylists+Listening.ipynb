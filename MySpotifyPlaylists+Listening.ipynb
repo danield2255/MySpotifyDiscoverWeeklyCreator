{
 "cells": [
  {
   "cell_type": "markdown",
   "metadata": {},
   "source": [
    "## Client Link\n"
   ]
  },
  {
   "cell_type": "code",
   "execution_count": null,
   "metadata": {},
   "outputs": [],
   "source": [
    "import pandas as pd\n",
    "import numpy as np\n",
    "import os\n",
    "import time\n",
    "import spotipy\n",
    "from spotipy.oauth2 import SpotifyClientCredentials\n",
    "import spotipy.util as util"
   ]
  },
  {
   "cell_type": "code",
   "execution_count": null,
   "metadata": {},
   "outputs": [],
   "source": [
    "#link to spotify API and get Oauth Access\n",
    "clientId = os.environ.get('spotifyClientId')\n",
    "clientSecret = os.environ.get('spotifyClientSecret')\n",
    "clientCredentialsManager = SpotifyClientCredentials(client_id=clientId, client_secret=clientSecret)\n",
    "sp = spotipy.Spotify(client_credentials_manager=clientCredentialsManager) #spotify object to access API\n",
    "\n",
    "spotifyUsername =os.environ.get(\"spotifyUsername\")\n",
    "scope = 'user-top-read user-read-recently-played'\n",
    "SPOTIPY_REDIRECT_URI=os.environ.get('redirect_uri')\n",
    "token = util.prompt_for_user_token(spotifyUsername, scope, clientId, clientSecret,redirect_uri=SPOTIPY_REDIRECT_URI)\n",
    "if token:\n",
    "    sp = spotipy.Spotify(auth=token)\n",
    "else:\n",
    "    print(\"Can't get token for\", username)\n"
   ]
  },
  {
   "cell_type": "code",
   "execution_count": null,
   "metadata": {},
   "outputs": [],
   "source": [
    "# See the top artists you have been listening to the most within the given time range\n",
    "top_artists = set()\n",
    "results = sp.current_user_top_artists(time_range=\"medium_term\", limit=50)\n",
    "for i, item in enumerate(results['items']):\n",
    "    print (i, item['name'], '//')\n",
    "    print()"
   ]
  },
  {
   "cell_type": "code",
   "execution_count": null,
   "metadata": {},
   "outputs": [],
   "source": [
    "# See the top tracks you have been listening to the most within the given time range\n",
    "results = sp.current_user_top_tracks(time_range=\"medium_term\", limit=50)\n",
    "for i, item in enumerate(results['items']):\n",
    "    print (i, item['name'], '//', item['artists'][0]['name'])\n",
    "    print()"
   ]
  },
  {
   "cell_type": "code",
   "execution_count": null,
   "metadata": {},
   "outputs": [],
   "source": [
    "# Get your public listed playlists \n",
    "username = os.environ.get('spotifyClientId')\n",
    "playlists = sp.user_playlists(username)\n",
    "\n",
    "def show_tracks(tracks):\n",
    "    for i, item in enumerate(tracks['items']):\n",
    "        track = item['track']\n",
    "        print (\"   %d %32.32s %s\" % (i, track['artists'][0]['name'],\n",
    "            track['name']))\n",
    "        \n",
    "for playlist in playlists['items']:\n",
    "    if playlist['owner']['id'] == username:\n",
    "        print (playlist['name'])\n",
    "        print ('  total tracks', playlist['tracks']['total'])\n",
    "        results = sp.user_playlist(username, playlist['id'],\n",
    "            fields=\"tracks,next\")\n",
    "        tracks = results['tracks']\n",
    "        show_tracks(tracks)\n",
    "        while tracks['next']:\n",
    "            tracks = sp.next(tracks)\n",
    "            show_tracks(tracks)"
   ]
  },
  {
   "cell_type": "code",
   "execution_count": null,
   "metadata": {},
   "outputs": [],
   "source": []
  }
 ],
 "metadata": {
  "kernelspec": {
   "display_name": "Python 3",
   "language": "python",
   "name": "python3"
  },
  "language_info": {
   "codemirror_mode": {
    "name": "ipython",
    "version": 3
   },
   "file_extension": ".py",
   "mimetype": "text/x-python",
   "name": "python",
   "nbconvert_exporter": "python",
   "pygments_lexer": "ipython3",
   "version": "3.7.4"
  }
 },
 "nbformat": 4,
 "nbformat_minor": 4
}
