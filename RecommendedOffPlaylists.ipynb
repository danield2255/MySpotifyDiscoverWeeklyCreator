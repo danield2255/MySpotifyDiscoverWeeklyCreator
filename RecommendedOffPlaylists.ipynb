{
 "cells": [
  {
   "cell_type": "code",
   "execution_count": null,
   "metadata": {},
   "outputs": [],
   "source": [
    "import pandas as pd\n",
    "import numpy as np\n",
    "import os\n",
    "import time\n",
    "import spotipy\n",
    "from spotipy.oauth2 import SpotifyClientCredentials\n",
    "import spotipy.util as util"
   ]
  },
  {
   "cell_type": "code",
   "execution_count": null,
   "metadata": {},
   "outputs": [],
   "source": [
    "#link to spotify API and get Oauth Access\n",
    "clientId = os.environ.get('spotifyClientId')\n",
    "clientSecret = os.environ.get('spotifyClientSecret')\n",
    "clientCredentialsManager = SpotifyClientCredentials(client_id=clientId, client_secret=clientSecret)\n",
    "sp = spotipy.Spotify(client_credentials_manager=clientCredentialsManager) #spotify object to access API\n",
    "\n",
    "spotifyUsername =os.environ.get(\"spotifyUsername\")\n",
    "scope = 'user-top-read user-read-recently-played'\n",
    "SPOTIPY_REDIRECT_URI=os.environ.get('redirect_uri')\n",
    "token = util.prompt_for_user_token(spotifyUsername, scope, clientId, clientSecret,redirect_uri=SPOTIPY_REDIRECT_URI)\n",
    "if token:\n",
    "    sp = spotipy.Spotify(auth=token)\n",
    "else:\n",
    "    print(\"Can't get token for\", username)\n"
   ]
  },
  {
   "cell_type": "code",
   "execution_count": null,
   "metadata": {},
   "outputs": [],
   "source": [
    "# Get recommendations based off of the tracks in any one of your playlists\n",
    "chosenPlaylists = [\"Solid Rock\"]\n",
    "playlists = sp.user_playlists(spotifyUsername)\n",
    "for playlist in playlists['items']:\n",
    "    if playlist['name'] in chosenPlaylists:\n",
    "        print(playlist['name'])"
   ]
  },
  {
   "cell_type": "code",
   "execution_count": null,
   "metadata": {},
   "outputs": [],
   "source": []
  }
 ],
 "metadata": {
  "kernelspec": {
   "display_name": "Python 3",
   "language": "python",
   "name": "python3"
  },
  "language_info": {
   "codemirror_mode": {
    "name": "ipython",
    "version": 3
   },
   "file_extension": ".py",
   "mimetype": "text/x-python",
   "name": "python",
   "nbconvert_exporter": "python",
   "pygments_lexer": "ipython3",
   "version": "3.7.4"
  }
 },
 "nbformat": 4,
 "nbformat_minor": 4
}
