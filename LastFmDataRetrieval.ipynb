{
 "cells": [
  {
   "cell_type": "code",
   "execution_count": null,
   "metadata": {},
   "outputs": [],
   "source": [
    "import pandas as pd\n",
    "import numpy as np\n",
    "import os\n",
    "import requests\n",
    "import datetime\n",
    "import spotipy\n",
    "from spotipy.oauth2 import SpotifyClientCredentials\n",
    "import spotipy.util as util"
   ]
  },
  {
   "cell_type": "code",
   "execution_count": null,
   "metadata": {},
   "outputs": [],
   "source": [
    "#Add environment variables\n",
    "username = os.environ.get('LAST_FM_USER_AGENT')\n",
    "apiKey = os.environ.get('LAST_FM_KEY')"
   ]
  },
  {
   "cell_type": "code",
   "execution_count": null,
   "metadata": {},
   "outputs": [],
   "source": [
    "###This uses code from \n",
    "#\"https://medium.com/@m.w.bochniewicz/music-analysis-with-python-part-1-create-your-own-dataset-with-lastfm-and-spotify-8223a46fad4b\"\n",
    "def getScrobbles(username, apiKey, lastWeek, now, limit=200, page=1):\n",
    "    url = 'https://ws.audioscrobbler.com/2.0/?method=user.getrecenttracks&user={}&api_key={}&from={}&to={}&limit={}&page={}&format=json'\n",
    "    responses = []\n",
    "    artistNames = []\n",
    "    artistMbids = []\n",
    "    trackNames = []\n",
    "    trackMbids = []\n",
    "    timestamps = []\n",
    "\n",
    "    requestUrl = url.format(username, apiKey, lastWeek, now, limit, page)\n",
    "    response = requests.get(requestUrl).json()\n",
    "    pages = int(response['recenttracks']['@attr']['totalPages'])\n",
    "\n",
    "    print('{} total pages to retrieve'.format(pages))\n",
    "\n",
    "    for page in range(1, int(pages) + 1):\n",
    "        if page % 10 == 0:\n",
    "            print(page)\n",
    "        requestUrl = url.format(username, apiKey, lastWeek, now, limit, page)\n",
    "        responses.append(requests.get(requestUrl))\n",
    "\n",
    "    for response in responses:\n",
    "        scrobbles = response.json()\n",
    "        for scrobble in scrobbles['recenttracks']['track']:\n",
    "            if 'date' in scrobble.keys():\n",
    "                artistNames.append(scrobble['artist']['#text'])\n",
    "                artistMbids.append(scrobble['artist']['mbid'])\n",
    "                trackNames.append(scrobble['name'])\n",
    "                trackMbids.append(scrobble['mbid'])\n",
    "                timestamps.append(scrobble['date']['uts'])\n",
    "    \n",
    "    return artistNames, artistMbids, trackNames, trackMbids, timestamps"
   ]
  },
  {
   "cell_type": "code",
   "execution_count": null,
   "metadata": {},
   "outputs": [],
   "source": [
    "#Consider listening tracked over the last 7 days\n",
    "d = datetime.timedelta(days=7)\n",
    "now = datetime.datetime.utcnow()\n",
    "lastWeek =  now -  d\n",
    "#timestamp = dt.replace(tzinfo=timezone.utc).timestamp()\n",
    "artistNames, artistMbids, trackNames, trackMbids, timestamps= getScrobbles(username, apiKey, int(lastWeek.replace(tzinfo = datetime.timezone.utc).timestamp()), int(now.replace(tzinfo = datetime.timezone.utc).timestamp()))\n",
    "df = pd.DataFrame()\n",
    "df['artist'] = artistNames\n",
    "df['artistMbid'] = artistMbids\n",
    "df['track'] = trackNames\n",
    "df['trackMbid'] = trackMbids\n",
    "df['timestamp'] = timestamps\n",
    "df['datetime'] = pd.to_datetime(df['timestamp'].astype(int), unit='s')\n",
    "\n",
    "df.head(10)"
   ]
  },
  {
   "cell_type": "code",
   "execution_count": null,
   "metadata": {},
   "outputs": [],
   "source": [
    "df.shape"
   ]
  },
  {
   "cell_type": "code",
   "execution_count": null,
   "metadata": {},
   "outputs": [],
   "source": [
    "df.tail()"
   ]
  },
  {
   "cell_type": "code",
   "execution_count": null,
   "metadata": {},
   "outputs": [],
   "source": [
    "#Input a song and an artist, and get the song's top 3 most frequent genre tags given by listeners on Last FM\n",
    "def getTopGenreTags(apiKey, artist, track, mbid = \"\"):\n",
    "    if mbid == \"\":\n",
    "        url = 'https://ws.audioscrobbler.com/2.0/?method=track.gettoptags&artist={}&track={}&api_key={}&autocorrect=1&format=json'\n",
    "        requestUrl = url.format(artist, track, apiKey)\n",
    "    else:\n",
    "        url = 'https://ws.audioscrobbler.com/2.0/?method=track.gettoptags&artist={}&track={}&api_key={}&mbid={}&autocorrect=1&format=json'\n",
    "        requestUrl = url.format(artist, track, apiKey, mbid)\n",
    "    try:\n",
    "        response = requests.get(requestUrl).json()\n",
    "        top3 = [x['name'] for x in response['toptags']['tag'][0:3]]\n",
    "        if len(top3) == 0: \n",
    "            #If there are no genre tags for the song, try to get the top tags for the artist\n",
    "            try:\n",
    "                url = 'https://ws.audioscrobbler.com/2.0/?method=artist.gettoptags&artist={}&api_key={}&autocorrect=1&format=json'\n",
    "                requestUrl = url.format(artist, apiKey)\n",
    "                response = requests.get(requestUrl).json()\n",
    "                top3 = [x['name'] for x in response['toptags']['tag'][0:3]]\n",
    "                if len(top3) == 0: \n",
    "                    return None\n",
    "            except:\n",
    "                print(track+ \" not found \")\n",
    "                return None\n",
    "        return top3\n",
    "    except:\n",
    "        try:\n",
    "            url = 'https://ws.audioscrobbler.com/2.0/?method=artist.gettoptags&artist={}&api_key={}&autocorrect=1&format=json'\n",
    "            requestUrl = url.format(artist, apiKey)\n",
    "            response = requests.get(requestUrl).json()\n",
    "            top3 = [x['name'] for x in response['toptags']['tag'][0:3]]\n",
    "            if len(top3) == 0: \n",
    "                return None\n",
    "        except:\n",
    "            print(track+ \" not found \")\n",
    "            return None\n",
    "    \n",
    "    \n",
    "#getTopGenreTags(apiKey, \"Passion Pit\", \"Sleepyhead\", \"02950702-7ae1-3dd1-8bf2-2e17c2721a34\")\n",
    "    \n",
    "    \n",
    "    "
   ]
  },
  {
   "cell_type": "code",
   "execution_count": null,
   "metadata": {},
   "outputs": [],
   "source": [
    "#Format the dataframe of songs with their top genre tags\n",
    "genreDf = pd.DataFrame()\n",
    "for index, row in df.iterrows():\n",
    "    topGenres = getTopGenreTags(apiKey, row[\"artist\"], row[\"track\"], row[\"trackMbid\"])\n",
    "    insert = {\"artist\":row[\"artist\"], \"track\":row[\"track\"]}\n",
    "    if topGenres == None:\n",
    "        continue\n",
    "    for i in range(len(topGenres)):\n",
    "        col = \"genre\" + str(i + 1)\n",
    "        insert[col] = topGenres[i]\n",
    "    genreDf = genreDf.append(insert, ignore_index=True)\n",
    "    \n",
    "genreDf.head()\n",
    "    "
   ]
  },
  {
   "cell_type": "code",
   "execution_count": null,
   "metadata": {},
   "outputs": [],
   "source": [
    "genreDf.tail(10)"
   ]
  },
  {
   "cell_type": "markdown",
   "metadata": {},
   "source": [
    "## Get Spotify Data on Songs"
   ]
  },
  {
   "cell_type": "code",
   "execution_count": null,
   "metadata": {},
   "outputs": [],
   "source": [
    "clientId = os.environ.get('spotifyClientId')\n",
    "clientSecret = os.environ.get('spotifyClientSecret')\n",
    "clientCredentialsManager = SpotifyClientCredentials(client_id=clientId, client_secret=clientSecret)\n",
    "sp = spotipy.Spotify(client_credentials_manager=clientCredentialsManager) #spotify object to access API\n",
    "\n",
    "spotifyUsername =os.environ.get(\"spotifyUsername\")\n",
    "#scope = 'user-top-read user-read-recently-played'\n",
    "SPOTIPY_REDIRECT_URI=os.environ.get('redirect_uri')\n",
    "token = util.prompt_for_user_token(spotifyUsername, clientId, clientSecret,redirect_uri=SPOTIPY_REDIRECT_URI)\n",
    "if token:\n",
    "    sp = spotipy.Spotify(auth=token)\n",
    "    print(\"Success\")\n",
    "else:\n",
    "    print(\"Can't get token for\", username)"
   ]
  },
  {
   "cell_type": "code",
   "execution_count": null,
   "metadata": {},
   "outputs": [],
   "source": [
    "#Search songs based on artist and title to get the track ID's\n",
    "def getSpotifyUris(df):\n",
    "    savedUris = []\n",
    "    artistNames = df['artist'].values\n",
    "    trackNames = df['track'].values\n",
    "    \n",
    "    for i in range(len(artistNames)):\n",
    "        try:\n",
    "            artist = artistNames[i]\n",
    "            track = trackNames[i]\n",
    "            q = 'artist:{} track: {}'.format(artist, track)\n",
    "            results = sp.search(q=q, limit=1, type='track')\n",
    "            uri = results['tracks']['items'][0]['uri']\n",
    "            savedUris.append((uri.split(\":\")[2], artistNames[i], trackNames[i]))\n",
    "        except:\n",
    "            pass\n",
    "    return savedUris\n",
    "uri = getSpotifyUris(df)"
   ]
  },
  {
   "cell_type": "code",
   "execution_count": null,
   "metadata": {},
   "outputs": [],
   "source": [
    "def getAudioFeatures(trackId):\n",
    "    return sp.audio_features(trackId)\n",
    "def getSearchItem(item, ofType):\n",
    "    #ofType: should be 'artist', 'album', 'track', 'playlist'\n",
    "    results = sp.search(q= ofType + ':' + item, type=ofType)\n",
    "    searchItems = results[ofType+\"s\"]['items']\n",
    "    if len(searchItems) > 0:\n",
    "        return searchItems[0]\n",
    "    else:\n",
    "        return None"
   ]
  },
  {
   "cell_type": "code",
   "execution_count": null,
   "metadata": {},
   "outputs": [],
   "source": [
    "spotifyAudioDf = pd.DataFrame()\n",
    "spotifyTrackInfoDf = pd.DataFrame()\n",
    "trackUrl = \"https://api.spotify.com/v1/tracks/{}\"\n",
    "for idNum in uri:\n",
    "    audioFeatures = getAudioFeatures(idNum[0])\n",
    "    audioFeatures[0][\"artist\"] = idNum[1]\n",
    "    audioFeatures[0][\"track\"] = idNum[2]\n",
    "    spotifyAudioDf = spotifyAudioDf.append(audioFeatures, ignore_index=True)\n",
    "    requestUrl = trackUrl.format(audioFeatures[0][\"id\"])\n",
    "    response = requests.get(requestUrl, headers={\"Content-Type\":\"application/json\", \n",
    "                        \"Authorization\":\"Bearer \"+ token}).json()\n",
    "    trackInfoRow = {}\n",
    "    trackInfoRow[\"artist\"] = idNum[1]\n",
    "    trackInfoRow[\"track\"] = idNum[2]\n",
    "    trackInfoRow[\"popularity\"] = response[\"popularity\"]\n",
    "    trackInfoRow[\"release_date\"] = response[\"album\"][\"release_date\"]\n",
    "    trackInfoRow[\"explicit\"] = response[\"explicit\"]\n",
    "    spotifyTrackInfoDf = spotifyTrackInfoDf.append(trackInfoRow, ignore_index=True)"
   ]
  },
  {
   "cell_type": "code",
   "execution_count": null,
   "metadata": {},
   "outputs": [],
   "source": [
    "#Merge dataframes from Spotify and LastFM \n",
    "fullDf = pd.merge(genreDf, spotifyTrackInfoDf, on = [\"artist\", \"track\"], how = \"inner\")\n",
    "fullDf = pd.merge(fullDf, spotifyAudioDf, on = [\"artist\", \"track\"], how = \"inner\")\n",
    "fullDf.head()"
   ]
  },
  {
   "cell_type": "code",
   "execution_count": null,
   "metadata": {},
   "outputs": [],
   "source": [
    "#Keep the useful columns \n",
    "fullDf = fullDf[['artist',\n",
    " 'track',\n",
    " 'genre1',\n",
    " 'genre2',\n",
    " 'genre3',\n",
    " 'explicit',\n",
    " 'popularity',\n",
    " 'release_date',\n",
    " 'danceability',\n",
    " 'energy',\n",
    " 'key',\n",
    " 'loudness',\n",
    " 'mode',\n",
    " 'speechiness',\n",
    " 'acousticness',\n",
    " 'instrumentalness',\n",
    " 'liveness',\n",
    " 'valence',\n",
    " 'tempo',\n",
    " 'type',\n",
    " 'id',\n",
    " 'uri',\n",
    " 'track_href',\n",
    " 'analysis_url',\n",
    " 'duration_ms',\n",
    " 'time_signature']]\n",
    "fullDf.head()"
   ]
  },
  {
   "cell_type": "code",
   "execution_count": null,
   "metadata": {},
   "outputs": [],
   "source": [
    "#Save the file\n",
    "fullDf.to_csv(\"myListeningData.csv\")"
   ]
  },
  {
   "cell_type": "code",
   "execution_count": null,
   "metadata": {},
   "outputs": [],
   "source": []
  }
 ],
 "metadata": {
  "kernelspec": {
   "display_name": "Python 3",
   "language": "python",
   "name": "python3"
  },
  "language_info": {
   "codemirror_mode": {
    "name": "ipython",
    "version": 3
   },
   "file_extension": ".py",
   "mimetype": "text/x-python",
   "name": "python",
   "nbconvert_exporter": "python",
   "pygments_lexer": "ipython3",
   "version": "3.7.4"
  }
 },
 "nbformat": 4,
 "nbformat_minor": 4
}
